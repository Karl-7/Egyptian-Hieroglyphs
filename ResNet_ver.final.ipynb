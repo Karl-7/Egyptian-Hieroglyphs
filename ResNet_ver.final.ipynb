##this file is no longer in use so I just deleted it.
