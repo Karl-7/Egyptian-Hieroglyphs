##this file is unused so I just deleted it.
